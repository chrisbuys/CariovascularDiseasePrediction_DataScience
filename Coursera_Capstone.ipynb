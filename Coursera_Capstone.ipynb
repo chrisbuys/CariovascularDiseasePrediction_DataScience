{
 "cells": [
  {
   "cell_type": "markdown",
   "id": "a1bb108f",
   "metadata": {},
   "source": [
    "<h1>Coursera Capstone</h1>"
   ]
  },
  {
   "cell_type": "markdown",
   "id": "e8195ebc",
   "metadata": {},
   "source": [
    "<t>This notebook will be used for the datascience final project</t>"
   ]
  },
  {
   "cell_type": "code",
   "execution_count": 2,
   "id": "3b8ac0c9",
   "metadata": {},
   "outputs": [
    {
     "name": "stdout",
     "output_type": "stream",
     "text": [
      "Hello Capstone Project Course\n"
     ]
    }
   ],
   "source": [
    "import pandas as pd\n",
    "import numpy as np\n",
    "\n",
    "print(\"Hello Capstone Project Course\")"
   ]
  },
  {
   "cell_type": "code",
   "execution_count": null,
   "id": "fdd36251",
   "metadata": {},
   "outputs": [],
   "source": []
  }
 ],
 "metadata": {
  "kernelspec": {
   "display_name": "Python 3",
   "language": "python",
   "name": "python3"
  },
  "language_info": {
   "codemirror_mode": {
    "name": "ipython",
    "version": 3
   },
   "file_extension": ".py",
   "mimetype": "text/x-python",
   "name": "python",
   "nbconvert_exporter": "python",
   "pygments_lexer": "ipython3",
   "version": "3.9.2"
  }
 },
 "nbformat": 4,
 "nbformat_minor": 5
}
